{
  "nbformat": 4,
  "nbformat_minor": 0,
  "metadata": {
    "colab": {
      "provenance": [],
      "authorship_tag": "ABX9TyOdcrMoQ/APGKnpUKcW4lXb",
      "include_colab_link": true
    },
    "kernelspec": {
      "name": "python3",
      "display_name": "Python 3"
    },
    "language_info": {
      "name": "python"
    }
  },
  "cells": [
    {
      "cell_type": "markdown",
      "metadata": {
        "id": "view-in-github",
        "colab_type": "text"
      },
      "source": [
        "<a href=\"https://colab.research.google.com/github/SulemanShahani/eBay-Shoe-Price-Scraper-Analyzing-Top-Rated-Shoes-Based-on-Price/blob/main/Untitled4.ipynb\" target=\"_parent\"><img src=\"https://colab.research.google.com/assets/colab-badge.svg\" alt=\"Open In Colab\"/></a>"
      ]
    },
    {
      "cell_type": "code",
      "source": [
        "\n",
        "!pip install selenium\n",
        "#!pip install webdriver-manager\n",
        "#!pip install undetected-chromedriver\n",
        "import pandas as pd\n",
        "from time import sleep\n",
        "from selenium import webdriver\n",
        "from webdriver_manager.chrome import ChromeDriverManager\n",
        "from selenium.webdriver.common.by import By\n",
        "import undetected_chromedriver as uc\n",
        "from selenium.webdriver.common.action_chains import ActionChains\n",
        "\n"
      ],
      "metadata": {
        "id": "9q7O1c8tbLa-",
        "colab": {
          "base_uri": "https://localhost:8080/"
        },
        "outputId": "2d19abd8-45dc-4cd3-dd9f-d1383bf11544"
      },
      "execution_count": 6,
      "outputs": [
        {
          "output_type": "stream",
          "name": "stdout",
          "text": [
            "Requirement already satisfied: selenium in /usr/local/lib/python3.10/dist-packages (4.21.0)\n",
            "Requirement already satisfied: urllib3[socks]<3,>=1.26 in /usr/local/lib/python3.10/dist-packages (from selenium) (2.0.7)\n",
            "Requirement already satisfied: trio~=0.17 in /usr/local/lib/python3.10/dist-packages (from selenium) (0.25.1)\n",
            "Requirement already satisfied: trio-websocket~=0.9 in /usr/local/lib/python3.10/dist-packages (from selenium) (0.11.1)\n",
            "Requirement already satisfied: certifi>=2021.10.8 in /usr/local/lib/python3.10/dist-packages (from selenium) (2024.2.2)\n",
            "Requirement already satisfied: typing_extensions>=4.9.0 in /usr/local/lib/python3.10/dist-packages (from selenium) (4.11.0)\n",
            "Requirement already satisfied: attrs>=23.2.0 in /usr/local/lib/python3.10/dist-packages (from trio~=0.17->selenium) (23.2.0)\n",
            "Requirement already satisfied: sortedcontainers in /usr/local/lib/python3.10/dist-packages (from trio~=0.17->selenium) (2.4.0)\n",
            "Requirement already satisfied: idna in /usr/local/lib/python3.10/dist-packages (from trio~=0.17->selenium) (3.7)\n",
            "Requirement already satisfied: outcome in /usr/local/lib/python3.10/dist-packages (from trio~=0.17->selenium) (1.3.0.post0)\n",
            "Requirement already satisfied: sniffio>=1.3.0 in /usr/local/lib/python3.10/dist-packages (from trio~=0.17->selenium) (1.3.1)\n",
            "Requirement already satisfied: exceptiongroup in /usr/local/lib/python3.10/dist-packages (from trio~=0.17->selenium) (1.2.1)\n",
            "Requirement already satisfied: wsproto>=0.14 in /usr/local/lib/python3.10/dist-packages (from trio-websocket~=0.9->selenium) (1.2.0)\n",
            "Requirement already satisfied: pysocks!=1.5.7,<2.0,>=1.5.6 in /usr/local/lib/python3.10/dist-packages (from urllib3[socks]<3,>=1.26->selenium) (1.7.1)\n",
            "Requirement already satisfied: h11<1,>=0.9.0 in /usr/local/lib/python3.10/dist-packages (from wsproto>=0.14->trio-websocket~=0.9->selenium) (0.14.0)\n"
          ]
        }
      ]
    },
    {
      "cell_type": "code",
      "source": [
        "# Setting up Chrome WebDriver in headless mode\n",
        "options = webdriver.ChromeOptions()\n",
        "options.add_argument('--start-maximized')\n",
        "options.add_argument('--headless')\n",
        "\n",
        "options.add_argument('--no-sandbox')\n",
        "options.add_argument('--disable-dev-shm-usage')\n",
        "#driver = webdriver.Chrome(options=options)\n",
        "driver = uc.Chrome(options=options)\n",
        "driver.get(\"https://www.ebay.com/\")"
      ],
      "metadata": {
        "id": "ZF55KfMq0Ata"
      },
      "execution_count": 71,
      "outputs": []
    },
    {
      "cell_type": "code",
      "source": [
        "\n",
        "keywords=driver.find_element(By.XPATH,'//input[@class=\"gh-tb ui-autocomplete-input\"]')\n",
        "keywords.clear()\n",
        "keywords.send_keys(\"black shoes\")"
      ],
      "metadata": {
        "id": "vCZvxRes1vHZ"
      },
      "execution_count": 55,
      "outputs": []
    },
    {
      "cell_type": "code",
      "source": [
        "\n",
        "driver.find_element(By.XPATH,'//input[@class=\"btn btn-prim gh-spr\"]').click()\n",
        "sleep(4)"
      ],
      "metadata": {
        "id": "wj0LeJCx5bMP"
      },
      "execution_count": 56,
      "outputs": []
    },
    {
      "cell_type": "code",
      "source": [
        "products=driver.find_elements(By.XPATH,'//div[@class=\"s-item__info clearfix\"]/a')\n"
      ],
      "metadata": {
        "id": "LgBdkrry6MWT"
      },
      "execution_count": 57,
      "outputs": []
    },
    {
      "cell_type": "code",
      "source": [
        "links_list=[]\n",
        "for product in products:\n",
        "  links_list.append(product.get_attribute('href'))\n",
        ""
      ],
      "metadata": {
        "id": "uMR8Lp4q_IVK"
      },
      "execution_count": 58,
      "outputs": []
    },
    {
      "cell_type": "code",
      "source": [
        "print(links_list)"
      ],
      "metadata": {
        "colab": {
          "base_uri": "https://localhost:8080/"
        },
        "id": "kbIMAelqAouc",
        "outputId": "4ba633ed-6b3a-49fb-f477-a18a585d06ea"
      },
      "execution_count": 59,
      "outputs": [
        {
          "output_type": "stream",
          "name": "stdout",
          "text": [
            "['https://ebay.com/itm/123456?itmmeta=012DEW30YG0MEEKND7NH&hash=item123546:g:acwAA9KNiJowH:sc:ShippingMethodStandard!95008!US!-1&itmprp=enc%3AbgepL1tlUHjMGCVfSTGJh%2BzsVKeJ3CQk7NizDI4BZeppuFnmyS6Ijyp8lh%2FnEw%2BWqO7uTV1Q6izE1R0T54aV8j71F4xlWfVcGft4%2FiOQhtqVXA1rW6M1atPARQRmhqUxtEPJKhKtSFgI%2Bvwlzb0GwVCtkp%3ABlBMUObkmabpYw', 'https://ebay.com/itm/123456?itmmeta=012DEW30YG0MEEKND7NH&hash=item123546:g:acwAA9KNiJowH:sc:ShippingMethodStandard!95008!US!-1&itmprp=enc%3AbgepL1tlUHjMGCVfSTGJh%2BzsVKeJ3CQk7NizDI4BZeppuFnmyS6Ijyp8lh%2FnEw%2BWqO7uTV1Q6izE1R0T54aV8j71F4xlWfVcGft4%2FiOQhtqVXA1rW6M1atPARQRmhqUxtEPJKhKtSFgI%2Bvwlzb0GwVCtkp%3ABlBMUObkmabpYw', 'https://www.ebay.com/itm/135041410518?var=434489397743&epid=26058295050&itmmeta=01HZ4HTTTW9J4JB9859GSPX2C6&hash=item1f711865d6:g:oOwAAOSwXpdmMnTr&itmprp=enc%3AAQAJAAAAwCbPBWzTl4KxF%2FB1txbRwnF2CqxksaXEO2D7iIxNHF7jc9kvyMXUHmmm%2BR%2FeiYwbjlxUFEXm%2FPbtJce1X75oJGHA4OjWyKsGTHlsWI0xfOa4CwP6Rf3vK2eb1d%2BupckfPxClvCAE61uheF8xMXqvij2W0lT26eWyx7hEcRvx1%2BoLzuOv%2FK7oXJGXkwdh3FUXn3oEOrFD8ddBv4xDl6DrR3DsEDjNEThRZitWFQYxJhXf990Y98DYB6003ogxuGjHxA%3D%3D%7Ctkp%3ABlBMUPit65H5Yw', 'https://www.ebay.com/itm/204808299126?itmmeta=01HZ4HTTTWFHQHH5A8SDBPAAXW&hash=item2faf86a276:g:jBgAAOSwHFZmRrmS&itmprp=enc%3AAQAJAAAAsI9wVloaHyMqVx6wkd9rHYttBxmUxtafZT4bqKpbyNulDhpQQ0YYn5icSsAMKiNu2Iowg%2B8PPF3SS0OdzLll092KP0%2FLe9DPRu6MCzZudYfZ1%2BlNO3AM%2BhTijh0Xr9wyKKR%2BOuraPOmYUdYKGhkbJyZODC3OquKmeF%2Fo%2BDkoI2nAQwiEtyXo3JIs4hXZRe3FQkztfppE9%2BjqQNuIIjv4nmsjwhE2WJlZEhNRi3dNNyZ3%7Ctkp%3ABlBMUPit65H5Yw', 'https://www.ebay.com/itm/185941186208?var=693944137527&itmmeta=01HZ4HTTTWSA9NR1MNMY9TF9RH&hash=item2b4af556a0:g:rqQAAOSw6vpkieh-&itmprp=enc%3AAQAJAAAAwINTJ6EQePMfX3OKQOp%2BEhnwEcBZgpfHKPhNo9InvgLH8P23oUekkoleLOqRRrb1YYAYTiDM1lvoQ68Hse5%2F4bvZUlbo%2FNb5A5%2BF%2FmJjm9x8ym8Jwb%2Ba9dwK2K8rC%2Fprrjw6gTl3ezrR%2Fsi6eOez%2B6QXZ5s0VOmW%2BEOHJrXg6kQ7XSo8bSehY6rumu2yxklVqyNIml75QQ7MXrULmm3Xo%2BNj0hucTFAA3PZAFbpOXgf0GjFXcp5dkiPfq8Eu1mM4xw%3D%3D%7Ctkp%3ABlBMUPit65H5Yw', 'https://www.ebay.com/itm/294999015633?itmmeta=01HZ4HTTTWQBXE6QR42P62ZY2C&hash=item44af4fc0d1:g:v4EAAOSw7NNT2B51&itmprp=enc%3AAQAJAAAAsHLpV%2BgIzANtdqD2TIJx%2F3AuzPBNrsIaWggYUqj46foF4djhpD1%2Fxj5tC7x77FOhP6dFuOtwZNRBDkj7l6q5bieMOSbRbqZa0PGWBz42N9DVkvSafvI77bthgLC4w4t1xd7aFL5bXhN2iKvblExsBlzOGhObxT4QV%2Fo4lBVycalE6tnVFalc0Qd%2FfPWOXq3Eob3CzUrtuls6odQfkCC2Z4qrzhoS%2FNVn19fGOcQthdm2%7Ctkp%3ABlBMUPit65H5Yw', 'https://www.ebay.com/itm/155711197326?var=456264750705&itmmeta=01HZ4HTTTWY8NBS4EYPBACM9WD&hash=item24411c508e:g:fAMAAOSwLZBlPDN8&itmprp=enc%3AAQAJAAAA4Is7cLv4zb8SiU5N4aBKfuqLZ3XmqUeszT3Rew%2Fr1Hz90wQf5uGFCLM4Hv6UO3LzNLan1TsPfM3BMzKOyiCjBecwDo5yPvWXNlfwE9TZIIroyYCgWphUPM0UtaPyr%2F6P2gQjv3AnrNexG6VhVZOjVuktvH9M8kfX0UwzlXjwaqO3Kp6kibOP2htLIKOnDf2acUMn7p5Y4EDA8XqbDhWNtAX3dzC9LJ8x46mq%2FIWJ5fsF5IoH7%2FlUULt7n%2FYAJcSQKGZVuj4nWGwe7v70TXQbC5NPTIHMvUzzVT0EHUTwxna6%7Ctkp%3ABk9SR_it65H5Yw', 'https://www.ebay.com/itm/156211936382?var=457130370843&itmmeta=01HZ4HTTTW2SKW9XMWDHJV3PBY&hash=item245ef4fc7e:g:oTkAAOSwxxVmRr1K&itmprp=enc%3AAQAJAAAA4EJnqqMt3VcMpqY%2F4LuTgmf%2Bhr4B7FajOfKwRhvdOEeeOZjXc%2FEBdSXnHhP4LsGlGD%2FKF1VfN1SqJ9i0EHxt1dic31o4deMLRgqh3pwwrsNvEV1M7HSxjOy80EZXzoFkQ4fB9q1ubfLbitpVMfXLGRMdDRDwwREXt32i%2Fierc%2FklONAjCBvANWJONoozo%2Bqhc0vXJPshh2IMZs1LYmqkYusp8Jk36hRaS8D1p8Haw7DAcVACgyYBC36rnYWSDMQmaRXpsJBfhbFA7U62V8P%2BUytWyieBe9kW67jUSLVpVoyg%7Ctkp%3ABk9SR_it65H5Yw', 'https://www.ebay.com/itm/284959012013?var=586757674402&itmmeta=01HZ4HTTTW4JRGSXR8BW7ZTSHW&hash=item4258e174ad:g:eAAAAOSwkMJkiBLs&itmprp=enc%3AAQAJAAAA4BpehH0aaTvS8NCSS3VAYOnjCUIkyiVXrUQmsU%2Bf12UCTJKZBbltXdv1BFDfPrGFtrptwI%2BclqEB6ati0RbqfqO5JyB98NvD%2BzJJugF02smBCoBMKTc0jj6L43j2OiSCU8WYo2haAji0kmYyqdiiLyakp0odmna6PSbrPF6KLAgBk%2B7yMeRCY85qy2YxXvr2j52KtwGA7FRAVdt6JTTtliZrySVmDdZzw8GPitenvSW%2B%2Bz9wJ2ZkBPK8UtY6yxAoX7G2ZI7wt%2Bnbv308Vln2fhnOvZhFT9NvWqwpEeeArboJ%7Ctkp%3ABk9SR_it65H5Yw', 'https://www.ebay.com/itm/404364675331?var=674725877018&epid=10062799868&itmmeta=01HZ4HTTTW3CPTBDD6FARNWJ7K&hash=item5e26034903:g:83cAAOSw2O1kpNpQ&itmprp=enc%3AAQAJAAAA4B3P1ql%2FclEuQBZMHQlJcx8InlK1kIAisqglaRvWCuYfW6GCzzywnRlpfORyPU8JT5vYzbq7bEMq7rkH%2FadC3etWNiMVYSHsj3eV6C7Lp0yn%2BaBJoAo8c7Ya63qwcTStDlllDYKOFBkBesKOSerxPXnY%2FTbNjhMQ%2Frqfh8%2FEnk%2BAA26lA2ZGFYJ8565K18mfS38y675IlWwIB%2Fb10llO3acZPSZIiM3hxUo9i9Zde5RPgr2P%2F2i8h%2BjATkECEYsymRRmxs2qxGLvapPrJZ207yQeEhJ3s8rYZY8H4Yd8c0tB%7Ctkp%3ABk9SR_it65H5Yw', 'https://www.ebay.com/itm/145128501319?var=444611047065&itmmeta=01HZ4HTTVTBGQQQDSR203SBMB7&hash=item21ca553047:g:9T0AAOSwjXplCsrt&itmprp=enc%3AAQAJAAAA4MUovytdQvv0byXwA3bXu3YVHYCvKSK3FVi0SBYnp0ySxYc0XLCbpH5FH4wjU3pBqH7%2FvsYSZgPChoZbrS2cH2xQj%2FEO4dpUASF7VbtlgJQRZu%2FsH04fif%2BA5IGDPO9KxoJS6zd%2B1GbBhmfidGZey8z7qcKUMI9odTviU68sNs%2Fbf7qeDCy8cBlUrrGN82bRvR3rJqJxCMk3unzIXrvAHSdrEUnjhcHsewQ3RZwaotWkzO5V2Nj59KV3FCeIyD5CqxSIcsSG0v6pKX0vuvmIsZRNbE6u%2BG9F9o5fK3QRE%2FXG%7Ctkp%3ABFBM-q7rkflj', 'https://www.ebay.com/itm/134603886418?var=434292597158&epid=691489761&itmmeta=01HZ4HTTVTCE7MASKFB0D5JRXV&hash=item1f57044f52:g:ksYAAOSww3BmV4Dq&itmprp=enc%3AAQAJAAAA4FmMM593VkHPAuMDKw1O6zMrT187TV9TgZSVfA2fixFvo4xRuqMeGdoly89FWW0B%2Bdo%2BZbASV7ErfDIQd5%2BzC8l9KCNh7MZ%2BruRruMWopuo892TORHNe6yVgBj0jJ%2Bp85lT%2FA%2FUHyyfVckzoJc7UH9ynUul%2FzYPJ3I7ATfBJ%2FSyu8UcD9dgp%2F2iKng4zk7nl%2Fm61T0TvzNpeBsGuz4OPKBJ973wT1O2%2BJqkhxGQD9xuHX0VI3FpJPKU3Xp7EAKJLcFjtNQoujL4PJcSmBbi4qomZmYGAOfUGP%2FR%2FH3cTO%2FOK%7Ctkp%3ABFBM-q7rkflj', 'https://www.ebay.com/itm/364809130120?var=634349110325&itmmeta=01HZ4HTTVTZ7FV43XM5N3FKDJ6&hash=item54f0519088:g:J3oAAOSwMy1mAjrH&itmprp=enc%3AAQAJAAAA4Fs%2FPHp8Dtt1YkWsVf%2FuwrCKHl2UuNdl0E45bG%2FclEY6kaHq0Jp2knZRiBPh%2Fj%2FAjg9yF3Fm5oTEvs4EeVN7lFlr49%2BYrZvQlTc%2BudTXoPz8%2BL%2Bwre53RxZjkx30mjILbVP51b%2Fw%2BnejWv6YWQmIY7UQd5iLtAKLrJY8LptxtfH39%2BxxxH2yuFYqkQGD4IT8uCwsGZLbUmgRRUjXuuX3P8pk5IH%2FajcJurjzuDkC%2FNMzqZ6TYppZpcj4tZx0oyFLIrLlWf29epORdfQLw%2B8uLgfAz%2Bdnd7ELPvAJPd3CKKYu%7Ctkp%3ABFBM-q7rkflj', 'https://www.ebay.com/itm/195732379789?var=495592463816&itmmeta=01HZ4HTTVTQFVDGKGVF5B9CXY1&hash=item2d928f188d:g:S9kAAOSwZZFkScaY&itmprp=enc%3AAQAJAAAA4KAG6l9sqyc4HpVWFW41QvLaRiY9rnEKxmnFN%2BjGutQE5j8yyBr8WOTASJFR3YJdQm9ioC1skmbEKHV19IylqUBGu2OGNwyXi%2BLkW2W%2FQ5wx59%2FbJkGGZU%2FQ1yaez3RrreHTxRg4fZH%2FcEOQto2EPddOQgrYehWZEbbNkf3H5uLbYFd59JXcsZmHUBUkJX2dLSycWOSs3jfiGHKSU7Wk6R7bybtabhAOeFXTeEW3mahOOpC%2BbJlYsfMYcTQpIzpmy%2F7xykYcefcwWQRyavjpyEzGrI6VL9JLTeq1taf57Twi%7Ctkp%3ABFBM-q7rkflj', 'https://www.ebay.com/itm/283540979481?var=585754578263&itmmeta=01HZ4HTTVTWMSK9CGH1RX6DKSN&hash=item42045bff19:g:8vAAAOSwZo5gZ1Sl&itmprp=enc%3AAQAJAAAA4JTUr6Tea5ifdk%2FAfR%2FycD1A5%2Fd%2BK6uQZlH9oWoXBbodFueQnDOgLHLSqsxnWoB9CHwruEebnxEx1Ue47rxSplfV%2BQA840lYpkdSajhscAXf8rm4YX%2F4O09o7cS%2FY1ULGRShWmJpFXRZlWwDdgV6uBhaagqXA38d1Vae17Ugp%2BBphO2aQxWesEvkVLtIPpRIisveNEgFmAK6dEZ0hmv8RHP44pqo0tC8WEwyfhNT%2FBizXaI43lLZZee2UBq1C9vONZKtNQp950899ep8Q0xp3lRc8FAluuqhn3nJnAORXwHo%7Ctkp%3ABFBM-q7rkflj', 'https://www.ebay.com/itm/133831180346?var=433278779826&itmmeta=01HZ4HTTVTXAZN5YG7B6CC2EF1&hash=item1f28f5c03a:g:8sMAAOSw0KFhAITV&itmprp=enc%3AAQAJAAAA4MbNJKPLbS6Fy0kqhP%2BBW%2FNoFoDJj2n%2BEiitYTjJvpSJvnlBnHHRVWTFptVN7YmZ%2B3%2FmIWVo2SIMVduEG%2F3eSykBSC7UKlxfxfvuMHk2sRy7vlamobi1NO1AzTlSux3u%2FjlVgLXNsV1Kmm7lEzzmYJwQC8eptfT3sDnHXTtl5KIPzQelx5QZMzQzcw6cx9JLleojHxD09VaYI7FlwskVfNWwuH35Ify9R9MUMreclQ2s6xwRxsdUM%2BHzVKebcr0YB5v14cNS9k3IIOy40ROIQoMfa7a12q1s6WTUAC8%2Fm5K5%7Ctkp%3ABFBM-q7rkflj', 'https://www.ebay.com/itm/156112273575?var=456876502381&itmmeta=01HZ4HTTVTDPB9D080KM1DYVPA&hash=item24590440a7:g:6BAAAOSw1bVl71w~&itmprp=enc%3AAQAJAAAA4I%2BZTDIQPbgO85ipQqB8%2FqKznCZ2X3ZdkJurzptUNzKqip53xoJjU5cFbNioyNhSjdk1OMqh4F0RIqvz66yabkve0Y1vXk9I4iq%2FIZll3mA7bmrMzr6y4OwvPT5apggV5CvHXuBSN591Rqu9P%2FbtKtEScjeWYYXeLcgh34ZePPoTQvOZvUk5i4j%2BhD4SN853liZ7R3q7t8yRsv4LZ%2BuUIcL4IAeh2OO82x0u0jOOMhDNs%2FUC1gi4hrY1JWnUb%2FlOZ%2FQGLrYLE1amA1%2BoEutdTQo2w1U1LlqeTjehUJu5MIr2%7Ctkp%3ABFBM-q7rkflj', 'https://www.ebay.com/itm/135032139969?var=434480041457&itmmeta=01HZ4HTTVTR50EQRK6BBV2JK5H&hash=item1f708af0c1:g:nSEAAOSwEYtmWFG1&itmprp=enc%3AAQAJAAAA4KrWvSpQ7f5GL6d5V3rzJOaD4%2FMy4WiqTvZ22gDpMuZx6tGvA5O6aMPZqPA8KfN7MKOdAPXgwLkKlJORR6RbYphAyF0fkKqLNBpM0j6oZR%2FLe0OFpjjodKH66JgfvqA%2F0njAfkjjdknV%2F8iMLDWoU1H6uNAJ6wiwkWh73TfwZS6ZGhDDrLoLEZGaN41UOL6wHjDjDQIIPo8KlNE%2FloDnZ%2FnaRUPpiJ5mCZ%2FvwC8XeToOMAk5R5JaMtg3NGH%2F8BxWhcdjWDKbStW4YybtbEvNCjszpXDNm3tTs%2FLpK7PyxOXp%7Ctkp%3ABFBM-q7rkflj', 'https://www.ebay.com/itm/134603886418?var=434292597156&epid=1400688746&itmmeta=01HZ4HTTTWW3F95CGBRKNTGR0Y&hash=item1f57044f52:g:ksYAAOSww3BmV4Dq&itmprp=enc%3AAQAJAAAA4FmMM593VkHPAuMDKw1O6zMiIlsviujMkdtQNJKrd5jJWCHUpIh%2FwrqwQGxkPrMjGasfyV50zFlqVvDSoQdJXinkzQ%2FbLjA%2FUfkcfRNa07wGlm77w2wFNCG4XmHWgeRvWrtSp7kk6kDwtwaGr3NC2bgKSyk8cZcEETURHc6%2F6NCjzSiWWBlJkGktJYLCIwFMbdbXqC1M8aY8ZIsDjmmu%2BvGUBfBO0BIgG3A%2Borvd5QlthiT6WImVcfqqeZhjkAl%2Bca63xJwtgWkUemeMw2UHObdJC%2B0NrOTjEJO87Pk3HxB7%7Ctkp%3ABk9SR_it65H5Yw', 'https://www.ebay.com/itm/295521901335?var=593601843265&itmmeta=01HZ4HTTTWQGTGNR43BNJPDFER&hash=item44ce7a5b17:g:wX0AAOSwkQtj5nyc&itmprp=enc%3AAQAJAAAA4G93%2BoTi%2BaEbcLR5JBta44C2zfFZOfWY1LPZDt6m677qy8w73wnPdcoMxhLXgdZlofXN1LUzxDAVnqxOB7zDB3Q2GxcZSoe2ce1qNxPld7udbeXwbj3IN%2BGtOoqp2yTuBRP6f%2FHViEJrbwIfgqFTq5Hb8pP5AtLXYTQB%2BuuO%2F526oHGwzwj8bD8SYZ1%2FFMO26rYZpl%2FwC%2BEaKgJqxGmYYFoOOJmsxyBBOwonD8Eta%2BpXGikH3urBX5QFSZHTz5gevJIoSnKX9XO8aCF%2FTVm9DTlyqJYOgtkbRGFRUNGrnHa%2F%7Ctkp%3ABk9SR_it65H5Yw', 'https://www.ebay.com/itm/195732379789?var=495592463816&itmmeta=01HZ4HTTTWD7QDNDJZKY8PHYFQ&hash=item2d928f188d:g:S9kAAOSwZZFkScaY&itmprp=enc%3AAQAJAAAA4KAG6l9sqyc4HpVWFW41QvJXV99xNmbmfIFoi1VEZKIxcHN8craBZEsdh6kZ2xfvyEj6KXSPj4EOu523hlybeRez0OVB%2Bgkuxkex3MeYQKKy6kyTsjXgRD78jL66Sc6Pqi2CNHMcL0H1mKr8tZiXAly3Ji5c6TEUH1yJDK5fx46p0YZheeClzuAZFU1QBv83pRYrjY06kN0ECXEuQdGBlHpZY5%2BLzLsMZdhi%2BQcaApGr%2FGKIT6KHplPZ3ncSTcTAj0Puwq%2B1Ldu71bDPRKly5MzO4Zo0Skg8lKcULRXuK2M4%7Ctkp%3ABk9SR_it65H5Yw', 'https://www.ebay.com/itm/404732940618?var=674732035173&epid=17058286226&itmmeta=01HZ4HTTTWXW4MG5Z32AR3HAT1&hash=item5e3bf6914a:g:O-cAAOSwQCllnAu5&itmprp=enc%3AAQAJAAAAwH47UqeTTc5G0qV8GYAN6fdg9Fl%2Fo5x9lJaJiD9UFwcHayVVeH5Cox58zYeWYxGkjKPF%2B%2FwuaxEvBHWPRglvoEJFo7asDp%2BlLez1hoXN4x3rJwDj8LUmjegTJ4zI6acXYqPfgbAYBTA47oiVdpW3c%2BAbs%2BOZtS13OOh0%2F9n2ruIt4QlCSw59sqezFhxNKC5JdRjZtTzGqe5psM%2BzS6yS9%2BMUI3xxC1%2Bk7Yc5q31GPVmjc0Aj6soPOiTNZeFmq97YDw%3D%3D%7Ctkp%3ABk9SR_it65H5Yw', 'https://www.ebay.com/itm/266279502917?var=566104763731&itmmeta=01HZ4HTTTWWA6X1ES85P8R0ZEA&hash=item3dff7ec445:g:lnYAAOSwIw5kd75I&itmprp=enc%3AAQAJAAAAsIYyLehk1B%2BMiofj7woecPH%2FScDnDGmc27eqa%2Bm6gS55zw6heDTV%2Bd1eY6TEZhgkKPhuj%2BTxrfatuLWSUJiFmAEvvNT4dkRw%2B04VJWPwqnykenzwOvNpmPsV05nqgcQkWYXIZ%2FIl6XieDUHwZ1j6MGWw0ezSuZywp%2BhvOrBCViuoCiM4S7jN4vULh0EWzBMJRp3HLfbFOwrK%2FBfkb9qIdbzfxpsyS6Em6v5Gt5tjx3xi%7Ctkp%3ABlBMUPqt65H5Yw', 'https://www.ebay.com/itm/175733801324?itmmeta=01HZ4HTTTWYBGXTMBZQSGSQ7EV&hash=item28ea8d016c:g:mxMAAOSw7bZkZkdr&itmprp=enc%3AAQAJAAAAsC5GXQfPT2kHesNxdgJXuKhqfhAnjFBfUYTgk2%2FcnjHAQu6vyJ3YG3Iov6ciLYjDxrKXC%2BVIvMv1hZAPgHKsCPivFl79kDyc43nD18Ti0U94vNy2cJcLe4Z%2BxmLiODduJQM3jCPLKLww54fRtLUobDjqi4%2BRn%2BeHIoMLrxRdndNnAQ5NSIFHp52Zt6T5FsJsiNVFTLJAz3VIyJgXN8perAJOzAAr49wJsRY6MrEI9g1x%7Ctkp%3ABlBMUPqt65H5Yw', 'https://www.ebay.com/itm/176166281130?var=475616192998&itmmeta=01HZ4HTTTWQCRBMJ5XD16RD3GP&hash=item2904541faa:g:ThEAAOSw6R5lnHtQ&itmprp=enc%3AAQAJAAAAsE73W2aYFFbVViGXYi2dbTw9jooR2Sa4nBJWJ7pe5gSExXIccCDvkUuddGX09SFC5ndvyjuXvKA%2FOgovqYVeIlcpAugImaDtUVi9sGGKlqGmJoBOrJwn4xBa779R3pKqnjRPuvuxqJQu%2BjSuKfnNBOcST4JXzch3bMVgiHuQRkvEFhr8iPiaHjX74mRilC%2FOQt3IAWC3CatQtvP7xgDJweDbh8uLUVPQMWOFxtWBl8Cr%7Ctkp%3ABlBMUPqt65H5Yw', 'https://www.ebay.com/itm/256512858677?epid=8039830188&itmmeta=01HZ4HTTTWQ0PBDT5HHFV7HP7P&hash=item3bb95b9a35:g:8WYAAOSwXfhmM1uJ&itmprp=enc%3AAQAJAAAAwH5sTS3XSLeMBFsjnNCxUbovYeWB8smpXMd0tystRQONucc8G2ZaKveeznA9kC%2Fs%2F2iIbVuOxoyYLTKlUT0J%2BCBUQQyBRjfvMpw%2B6G5oowFhXySYWkIw5DAj%2Bp6g5gqr8%2B%2FZ8Ubk3U9H4b2RXCBLTCMnz5XTlQ%2F6eBLMVOV1Dzwk6%2FxqX1zngONfpqQYeH0eAe%2FnkXzJc4y4GSWVmpEcItX0yex3kaIJnmjD7rm0aYRwVo7juZQ8Mpz9aQkpIxryyA%3D%3D%7Ctkp%3ABlBMUPqt65H5Yw', 'https://www.ebay.com/itm/404925961451?var=674961508028&itmmeta=01HZ4HTTTXMVA12G5FZ6FW6AAZ&hash=item5e4777d4eb:g:EHMAAOSw8gZmHecQ&itmprp=enc%3AAQAJAAAA4Ex8%2F%2BYtmCSnxuay0M3JJQfDnPtfUC4xisjlD95gK62q9DHXHjgy8%2BeSFo2L8lOMTptGsm8zvKQDzz37GtDRHXRL4IHVRHcpZuQsaH7n2foMHg27kdwAHKZ5GkruYX%2ByHYzL%2BWBnlLAOlc52O4WA0T%2FisFzqojOztHwAcZ%2BI7HAmDQMyT9hKzuOOc5Py6ZbWyO9KUPOuIC%2FtR2%2FNN47vChsxIjhN%2F%2BcamcuZBNTRVOVhul7FudiyJBpmqlGTWPUfkfggW6kGzciCUp5fIrMy3f70NQ6uMKs0CZSz1QKk2Xj8%7Ctkp%3ABk9SR_qt65H5Yw', 'https://www.ebay.com/itm/405006208888?epid=22058446918&itmmeta=01HZ4HTTTX9FB39ZJGB5J6S3CA&hash=item5e4c404f78:g:1awAAOSw6YZmU9YN&itmprp=enc%3AAQAJAAAA4JJ0AsD89jFkU4IWRqZu24id9DULglfEargvS1bwBwFSoWHPjzSb6x5fULUYlmS8BiyzmXkAGVOBAno%2BYmNposQFkc2%2Bwwo6CxgskldkyTsnjlz0qMtV7NrIUlUv7yWzp8qO4GBxOw3s3QtDiwBMy%2F0h4n3dn5EolewdgjDqrKipyFXxDRHIH9txM3804TOHKGIurb9jxgHyaO5zgjmt47uIG%2BSakEdgrxCeSsMOw6dZ5iTg6OWKKj0925OgO69BO0rjBzm6SUWS7jFKCe6lUID4uXyCnJJHN%2BoH1Dr5VEKv%7Ctkp%3ABk9SR_qt65H5Yw', 'https://www.ebay.com/itm/404953941494?var=675024378903&itmmeta=01HZ4HTTTX9Y2SQY5H29DRWX7K&hash=item5e4922c5f6:g:U7QAAOSwnz5mMwzf&itmprp=enc%3AAQAJAAAA4BkPAbn7Bzug8p0dgHrruzxJ7Pqu2tvMAVoFqv7Frxe2vMKxb%2FTqxN1KytbuvYMPnho2vLBcUnXP%2FkfZna0rI581XDyuBPmdMSKmdoCibonZJyiV1xjF9YFfcMpMCpX%2FPHVhPifXxSTWPz5y%2BWZ5F5WKMjfSV5CsM701f9UEWYHZ1bMDCXWzN8NE2l3dpohWy4juJoV%2BkntiFLm8JZxlA4bmVc%2B6OW3n8%2Fk0gQ0mmsUXu1gBhQS06cmsr5dc069MjvCiO7nZIUP3wlZ8yjO%2Bd63mrgixfauxwn64UHQ2q0Ks%7Ctkp%3ABk9SR_qt65H5Yw', 'https://www.ebay.com/itm/404951257429?var=674994534517&itmmeta=01HZ4HTTTX575H33KSK2P880DD&hash=item5e48f9d155:g:BN0AAOSw8x9lU~ub&itmprp=enc%3AAQAJAAAA4CDtdPxlbsmnStxMj%2BLwk3EbnuFhWRwuFrJjvfOemyBD5tuEh9Sj70giVlono3UzhezAPU5LcHsGpNy%2FkT7%2BhzH%2FxJVMwGt9jNjBa6JCN3gEz%2BEELL9qeWd1fSbTKEWdbWO%2F956HYJjLVGWZHyPIjQZ%2BZ2v0c9c4NuXyyUI%2FPK%2ForrJBpnJzg5JDwsB0As6cScXUA9w5qocgJaCzZVE5Tk10THWTdYc2FG4%2BCaoE9eYzeybVfE3Kz56ndqgP2hliuyeTioFnQhzj%2FTEHQgaxVKVcJyFf3WWAtHW9tqXyHCIg%7Ctkp%3ABk9SR_qt65H5Yw', 'https://www.ebay.com/itm/404320005500?var=674236088458&epid=27060156570&itmmeta=01HZ4HTTTXHRFFBA27WGGXBSGZ&hash=item5e2359ad7c:g:yGQAAOSwoipkf3W2&itmprp=enc%3AAQAJAAAAwKX8dnll02GnuUbQRamhyCTaMMyQHeaPhs5abUvyc8g4sU4bIvtZQEL8YwXjVlHuzlVEWsrA9A8y5sBywdZIIercXJx7%2FIaiKGVBnOQk%2FrnTYbak7JwG5wyqrkaJvbwhE4GuYxekazV0xueyjtPxS8pBvu63V4F8CDo7RnoijNIpF7H4jPYsCaKxazS%2F5t77MtIG4%2BqG65gMghITlB7A--rVj2MLkFXBjlAnn%2Ff0sAyLRp0t39hdMKEw0TnG4HbzQg%3D%3D%7Ctkp%3ABk9SR_qt65H5Yw', 'https://www.ebay.com/itm/134605352068?var=434535640526&itmmeta=01HZ4HTTTX89M5F64TSR7FJZ36&hash=item1f571aac84:g:6AsAAOSwSytmWFF9&itmprp=enc%3AAQAJAAAAwHqp8ZNIpUw%2B%2F81K055agKUrbGDru4dOVzfUWh1a5KcC7TLWC2CwUpuTn9Enahcr2qhmArZIpZbybzXxfTpWTGYBjhykkRfGPaUKNxZ8t4rb9Puia4qP5dtJVMpuTjZ3KFy74Ef3YNQVv0FW%2FDmQ0psEwvaXjfXieG3YINRD0wkF%2FxdNnz%2F0uZQ3gvr%2FYubkg7%2F0g5DC9tzUnFQy4Ef7%2BLe6nzpmq4hHsZjdSl4X3aF%2Fii5jv7XpcPBIWIYe3sTrvg%3D%3D%7Ctkp%3ABk9SR_qt65H5Yw', 'https://www.ebay.com/itm/404918635446?var=674952777501&epid=26062285810&itmmeta=01HZ4HTTTXBCEZGE33WRQ4GJV1&hash=item5e47080bb6:g:bAUAAOSwpwpmGG4z&itmprp=enc%3AAQAJAAAA4CCw9X3YO3xNaMoG22hhjXqiU3cdPevF5xxRCyp2pqf8FeFEwEUcCY%2BFf7LsqqQZlRF%2FNJoNtsouk%2FdH%2Bd5rGEuQ3VhEkp3p2dWkyTnPRielZZqMEVv8bscDBY56BlZLoE%2FhC%2BenaEGRF2x1XSBhtfwuJiufuiLx4Dfvlm5UCwFVxkT3KZ2NykxHUQQjmDHwS8nVrN51whdD53vW%2BIRQx11bG%2BiDW8krpzCx5wRstORIWh3jgAdmxaTt7VAio6PIcVQ5ZGcFnvJB47yPPGHhFtjHM75mNcmO3WpIabRtN4qX%7Ctkp%3ABk9SR_qt65H5Yw', 'https://www.ebay.com/itm/285883960087?itmmeta=01HZ4HTTTXHZF1WFWS169VNEQC&hash=item4290030b17:g:ui0AAOSwn3Vl4l46&itmprp=enc%3AAQAJAAAAwN7h3d4KzomXLrPKKcMDlhC6LTT9OQ3vC9Tzk%2BfhMCe7nRm%2FXQHsnK9T82fN0SQWs4iL8bVg2WWizYrkSHBSHmxviY%2FBq1XS4TDh0h%2FKEIC3yYKDR0ZsOWxT8PMqQn2elJ1x2wuEcXROsmJih7DhG2%2FLWpRPZcU7ZS2CAfIWK875rm%2FUy%2F5pSoQMOdAhxRXlDWY9ufILyJWmSwIaDmqJqisJoVQvS%2FnLuxNq3Q21iucw32LyE2W42V5GTNXsqjlIFw%3D%3D%7Ctkp%3ABk9SR_qt65H5Yw', 'https://www.ebay.com/itm/204777627142?var=505419941843&itmmeta=01HZ4HTTTXG9NMPG49C9XAZF4G&hash=item2fadb29e06:g:HxgAAOSwKyxl9964&itmprp=enc%3AAQAJAAAAwPWU%2FHFW76em4oCTj82cG1BUh%2FYbQ3DtEwtPk3f70zEy1G7qB%2FKO4ZkEK9Dp%2BwbAXWoAb8ieFeYPIY6YfmE9nEi8AgyPK0LDmSp8wjqOfWnFMXKrPoakwjFQU6dEcSVPk4nTgqR6fJH9f5Fhb9IoWQgf5CUFLtLGc1RYu4salAuDHyL80gwTexteeKw6R1wDlEDT49m5KDzQZOOnsXdo0XoXOZ2iwhhg%2F3bbbNWDXBe3%2F0D%2FdPlW6YaoirAit0dAHg%3D%3D%7Ctkp%3ABk9SR_qt65H5Yw', 'https://www.ebay.com/itm/133831180346?var=433278779815&itmmeta=01HZ4HTTTXDAEXPMVTY0P0H86A&hash=item1f28f5c03a:g:8sMAAOSw0KFhAITV&itmprp=enc%3AAQAJAAAAwPbT9yOFws5PL796PdkH%2Bfd74ij9odgfv0Mex%2B6Bz2q8VCqejMt8cS%2FTf7cWjFILMvSq6WfmndyJe9yqRw4D27%2Fqd1nCl7zcH3gDOTiGE0ARaL%2FJ6Om0eL0BathQiJkxl%2BZNmf8YnQRQpir%2F1dYU7CmDQNYtidY9wIErtMSYnFRcT9U%2FoPxtsFPDBj54FVdsFIvNaY6dWTMwqL4jvd1zCsRmJ0uXwm6kulykWYktywxpjUXPyRlU0%2Fi6CO9985J%2B%2Fw%3D%3D%7Ctkp%3ABk9SR_yt65H5Yw', 'https://www.ebay.com/itm/175789792931?var=475510675053&itmmeta=01HZ4HTTTXW6HC9RW3JNFSM871&hash=item28ede35ea3:g:87YAAOSwZtRkmc4I&itmprp=enc%3AAQAJAAAA4CFrWQGgEOvSzGaTNUNtw6x6VfhqAcEnUZACF%2BIE04cWXne3a9l%2F8Slw%2Fb9IbAkPbwCnZSar6%2FoTcpeRQj2SFYWX5w%2BTOEE1w0MQTIXaxbnthZslgF%2FmKWeZLxiTXBEyn1upi5eQE54tjWPwgIwV91Bf4SfhQv5n%2B8HTGNuR7S%2BxD0CCaNmbms5CPwug%2B0rXZpEjhP%2B7pIHghTwHnt8xn7eD9D75P82DE67OEnkWArLk2KMdXRo63b2aMe0nj7CkypTIsKtl1hQcm1bczYMZaaHJEqjf69m26oa7U8tCVlo4%7Ctkp%3ABk9SR_yt65H5Yw', 'https://www.ebay.com/itm/305478611920?var=604391344090&itmmeta=01HZ4HTTTX4CM63JA5M2B1WYAK&hash=item471ff1b3d0:g:ak4AAOSw0d5mBRZx&itmprp=enc%3AAQAJAAAA4LM2plwIemCbiTks1hqA4pmU7Lx19fNKZcbdbosAaLKLFv%2FzI%2FFz7TT%2BBvZeXcSq8FK0itdzxdYq2pAG5NJLmNpII8CeeoMSEDTp0ymcrnYef2S5UpZvtLTwM9vsAVCT9BF5XfSRsF8%2B6JwtdkuM2ZBRCtdBvz0Z%2FEjTU%2BJgf1TbjCXTLh1niurmXDUR7lnKLZjiZlDqHH6NC1O%2BlCd3%2BKITGn0dvOuNVAGNpP37Gen1Nk83oTwNskdxze6AF9ZBaLL%2BIawjYGPt2MGUQ2a5UxRHzb4496wUuZcqAVo0d%2BeH%7Ctkp%3ABk9SR_yt65H5Yw', 'https://www.ebay.com/itm/126386667598?itmmeta=01HZ4HTTTXC24TRY87JWV170Z4&hash=item1d6d3b804e:g:O2sAAOSwKyFl-nHW&itmprp=enc%3AAQAJAAAAsC0qoBULD0vtD2kFsIidkIgKP0PQ0dfiwVwFu3DFw9OB5vOIZjjLqEmBhRbDPq22SLTFxsOryZGs%2B%2Bwu2TbOp1Zw3X7UYMO%2F5bjP8cX4w767%2Ba76MWniIPD5z4z3n6HrwcDzuWawoApOXTXznvZf984tiYjX6k4CFwd5Vio92nEx01Sy%2BRTG0H9nQOvdT8N4OEBAqBGajOC0YS8zT%2BZoIHnHzNzuFswzG%2Fe9Rj%2B7MOCQ%7Ctkp%3ABlBMUPyt65H5Yw', 'https://www.ebay.com/itm/204808222563?itmmeta=01HZ4HTTTXN7633NHDMZ2ZF3PQ&hash=item2faf857763:g:Tf0AAOSwvtRmVoRk&itmprp=enc%3AAQAJAAAAsEeeP34iDgD99QelXIRyjdvKZaz3Bs5sZMXdhFWMxr4SfUn1N2wWowhR1IOoyDpqhdZUQ%2FeSlBkdgws4lxf%2BBVg5rkpgylAaqAbNRObLUxTM4KokZFPcXutMKZ67iHyc8ZrIRskq1jqiV5p5fXCKEiU0Ofjx4KdVtVAlEk40t5ep1tdKTE2y04JtJcpY%2F8jzAtBHT1UZKwznEtg%2BqSN0VGbGZkrocAlZyb6UglxbenU6%7Ctkp%3ABlBMUPyt65H5Yw', 'https://www.ebay.com/itm/364545528868?itmmeta=01HZ4HTTTX7R00SZWJD4XSVFRA&hash=item54e09b5424:g:d4gAAOSwKAdlN~Ih&itmprp=enc%3AAQAJAAAAsGOBXqldkAYhC3Cno%2FY%2F6geTffCZSoeSaDIRvu%2Fd%2FQMBfJq%2B%2BGCL06ZELDXeoWEiwicOzQ8VMK5uA4CJEU%2BWrkRVxk6ruMrMrm--ePdrPkFw69pxBVj7zi4GIyxnAfsrZUdfbqsJGlT3XGb4urbochzcliLVtcwNIxHKH1V2cq5wmbG5IFv%2FPDCk5%2BAZXEUcLvLcf73GxJadY0ukFldm5dKg1NW02bn21aausm4Lyc%2Bs%7Ctkp%3ABlBMUPyt65H5Yw', 'https://www.ebay.com/itm/386990232192?itmmeta=01HZ4HTTTXHS5TCRJPSW9M4T6W&hash=item5a1a6a5280:g:X6EAAOSwYeJmO7lj&itmprp=enc%3AAQAJAAAAsHPxy6V7kPY4hkOSCLkit48arhhRtCv0gY4M%2FoSZ02GZTkxT5eyowSl8y1cf6Uied2X617E6AtmxZWlnF5vbu97OqcCXhDHr9FHODk1QT9FoIFYNSaIkmvnRJr%2FPOAn6RdTJ7LDRs8jFViZViVn6WVAqd87%2FJGpzDwPg18yR9KSbos%2FpdMCw6jEzkaggqWOcRKMXgufVA7YcVgMWRvKbYA3vV3dk88V1pC9oAAiTUcWO%7Ctkp%3ABlBMUPyt65H5Yw', 'https://www.ebay.com/itm/156078822543?var=456790450209&itmmeta=01HZ4HTTTX91F5V5G650RTNK0N&hash=item245705d48f:g:75gAAOSwTudl2RKV&itmprp=enc%3AAQAJAAAA4A2UL9tuMSr37kjNgOmRKCnJMwe5gwW6qr4uDxTEBmjhsBxDxzSLrNpjEzpEH7VNcOW16kwSjZyFTmAPv004sIOSAdTE4bKvBNfYbGxBWH8UwA9TLBsQJpfDnEL7czUbPhkifHr%2B2Dh29dxpOi9p2Z0gp50w8dm0xtf3UbaTYoDaAXc%2FPinKd%2FUwAPfOBx08YzL1RY1ph0TS0pYp2Yn7HhOCai4ppelLPchzKFzHjkMfACCRCEG6YS6ef5tJaAT0n%2FhN8OTkWeSJQVXRKTVlbajEefbVd%2Bu22yoz%2FXJDQT%2B0%7Ctkp%3ABk9SR_yt65H5Yw', 'https://www.ebay.com/itm/176171038721?var=475931555217&itmmeta=01HZ4HTTTX9NJY666ZPMQ7QRT2&hash=item29049cb801:g:WeQAAOSwlxNluOzE&itmprp=enc%3AAQAJAAAA4BR8%2B%2BMInmngvW6Hw2Vw5Vtiyo3X9QhEfzWQoeo1IhmkpW%2F1IgR0BedWXHdL%2BT2jz5f70Q3lWur3BbvEk9Gtf3T%2F7cYsWFV0gLzfxD8eEQcAFwJma2SJwguayzIQisVjhD85Z0kGwyoUIwoPMU3KDSxVSq%2FVlRYOqYbFtbJCUIw3lR9ClOFWqyo%2BSFIs7EQOTsLpf3O6Hu9lMLsWc%2FPflL2GTMIO7dZD2%2FTIpLoCK02KEUN5ZJKubRRQ4WjfQ0P%2Br32Ndsa4eCKwtTQJbieWIHD4GdtkIohtu%2FFkiQvOC8mE%7Ctkp%3ABk9SR_yt65H5Yw', 'https://www.ebay.com/itm/235585925277?var=535817172061&epid=17050294596&itmmeta=01HZ4HTTTX3K9QWZY2Y3X65VK3&hash=item36da03f09d:g:uzQAAOSw6j5mV6LY&itmprp=enc%3AAQAJAAAA4F4fwe2ZKr%2B92SyIoCq9c%2FRvdhcqDAXUMbZAnKsA0MKq3tKC3WmAyMHjQ7tz0vSoUqnBHWu%2FPbxsqnasYzZqtzXx%2B%2BUq6vq1Q1apinLYcDxVnqcUhXRXUjjmIb6g0ORAuIUckvk0ah8h8kMHNF3FrZXFc8r6Trws%2B7qs1IZXXj2BDxUG0mvFutOwxWNvbdgB0CmDBpbL0hIMI2bDfP7oXB9oLO8r5IorFujki4Enfy8tXdDZe%2B1p6gnMBtHrF4VVRvlWy%2FxRrr3UH2X8Zd5LHNo1rveqq0jHmmLp8pf7fefS%7Ctkp%3ABk9SR_yt65H5Yw', 'https://www.ebay.com/itm/256526819051?var=556751421083&epid=14056173369&itmmeta=01HZ4HTTTXHCC7N4390XM4730K&hash=item3bba309eeb:g:ZxQAAOSwmJtmVrCx&itmprp=enc%3AAQAJAAAAwKZ9iEUbXz%2FvmMYh5eBVjNk2lRfbez0hk5w2t%2F8gQYqze3OubO2EsI%2BfSna%2B2%2Fc8nOv0r4K82fFA7almbGzYpLher21VSq148V3CrTwFggvy9zsrwwFYKHgbAa7swTNj%2B%2BE7QW0xlsxyVRAWtjTPSwmgQcoRRn6m7Y%2B08N0Bx9TE33JDojvvFMgj%2BXH86Vdy%2FR4qja4dqs65Quhg5CAVqElmNdSMeL0f%2BFXOXYO9kNVA%2BVji7TifR%2FeDIL5wGguUJg%3D%3D%7Ctkp%3ABk9SR_yt65H5Yw', 'https://www.ebay.com/itm/276482683587?var=579056848786&itmmeta=01HZ4HTTTXXDHK34RVGDB2E7MZ&hash=item405fa6f2c3:g:tNIAAOSwIXJmU38I&itmprp=enc%3AAQAJAAAA4P2W3SgUU%2BwVK2QYkHHMSVJJWysYpFa91XRcSjxnyJufsHqo2ejGgBeCqtcytPAv5XIgKd%2B9uNIrDg9mE%2FUaXqnLxD2hJWSIfXn9Q3d2ScxUBKPepKG1MSwCu2IrDPt2bs0PIZiWLXlbS6tufHCgO306f41NH3%2FlLfdrnWUFhPAb5fPgt710%2F9sVkuX7YHXnmWuQVxIbf112XKW4rr0rv9i0D%2Ba2m1Sd7zkZUWdBBRb1VQQmOrC27vQiNdv%2FWZl%2FtxUjjWUOQUe3YaVnA4C9w3XnGAVuyR8c11zf48KG86Wu%7Ctkp%3ABk9SR_yt65H5Yw', 'https://www.ebay.com/itm/155711370465?var=456099325555&itmmeta=01HZ4HTTTX92Z13NVX49Y9MRHY&hash=item24411ef4e1:g:pioAAOSwjzhk097Z&itmprp=enc%3AAQAJAAAAwFor%2F4Wjrx8b0VyDjG7IwDM99mGSuKTBvRBym5Gxd3zpluYkr%2F2Ruyo6XBJOQ9M7IMvZq5j0jwiziTh8a7kHgx13YdFMLe7oSXHt8IwQib1b9JELSxz2Rgj%2FRoH5g4YWwSgJizxdbKp52Md6cf%2F%2BScMtrwyKqHpk31r1Ey7gO%2BMWmm1xRa%2F4DEMwkdujvIvgOH86QvfIejplkjfgR7Occ4tqzYsawHasHIj1sXfZqBOxL%2Fb7XSjSA6tZHVcznsHY7w%3D%3D%7Ctkp%3ABk9SR_6t65H5Yw', 'https://www.ebay.com/itm/387034815526?itmmeta=01HZ4HTTTX6J5C9TH02WH5V9ED&hash=item5a1d129c26:g:SAUAAOSwZ~VmU8vg&itmprp=enc%3AAQAJAAAAsNSoUkkAUrfHEnRVYw1w4%2FRCog7MbSEwioQC7r3y%2Fe21ooVOc--GCF40wBrRIycUjnaq5zz4SLfo--4%2F862bXxkFWm8IESrO3nnyo9GXGVtQ9Z69UivLyMnOSqoHiQk9cpAn4tmJ%2FHNzn5C9JivXHeu%2Fj%2BNIkU1MaaXgxEBsiKbdXQ5Sfy9Y%2BRppg535UI1%2Fk7RGqL752l2k%2FfL4znVoWi%2FrC7KJofUbuPsQjYXVhD%2Be%7Ctkp%3ABlBMUP6t65H5Yw', 'https://www.ebay.com/itm/305266412438?var=604179283639&itmmeta=01HZ4HTTTX9Z3P0PV1Z3SGP0Y0&hash=item47134bcb96:g:mxIAAOSwS5NlUcUQ&itmprp=enc%3AAQAJAAAAsJysK8M3K9vZtzSW8WWNxQbQUkViP5j%2BNmITsmYHooALtluxoSSNpLVWIIrvP3mlO5D5WfQb8iGNnldJ1x4bxGana21aUV6ZvhC8animX6Bcja%2FKt21vFNiMDEwrAni9Trvd61aSa8pHlK4YcbmlO%2F56QvmsDee6mJ1URIzQjV7bMPipW--iP0h%2B7hzCE2%2Fna0iMhHRZEhjelN6Z2cCEzn3bhGUnZDEYmpELynMRQ3J4%7Ctkp%3ABlBMUP6t65H5Yw', 'https://www.ebay.com/itm/374538645353?var=643573646287&itmmeta=01HZ4HTTTX886N4KNJ7YD9CE8C&hash=item57343e2f69:g:U-cAAOSwj~dkrVjj&itmprp=enc%3AAQAJAAAA4BPPSIbXnDmDose3j4H3M7CLHXuPny%2FhiBL7Fqa3tVPVBD3XSSuGn8m11AO5UrnW8vJM2bnzgSGJtx3aFjzue304%2BS%2BD7Rqz%2B39anDMZvmQfutscLlkRTC7hQZg2M3fjx%2BSdyxHAmLZrqxtt5pl5D7JGKIUtgwKtmdLvUoVDavC4cpqgHYXgQx3b5o3Kl2sLLXanB5Hwc%2BhAV6BZIpbz9Wv6DMr%2F8C%2BBONjgbfNVX78H5p254egj3Yd4xYZfS22Gzhrjd4Nv9qHu6y%2Fwlb2DSaoSU%2FqDnVnCWg2TvxO396Y5%7Ctkp%3ABk9SR_6t65H5Yw', 'https://www.ebay.com/itm/387042083648?epid=14051940910&itmmeta=01HZ4HTTTXA4TKDNJR2J8MVANE&hash=item5a1d818340:g:r-sAAOSwfqJli25t&itmprp=enc%3AAQAJAAAAwBkcTLiIsLcYba3s3ZFvwYI9Ep%2BD0EZEsuxxNXf4SY95%2FmO7wDiS5Kj3%2FaDdHJobN1xcGdHd3qIsM1UktABPICio%2B2X7QML7hX6FCAVOsOoGiCe0l%2BiHlNMPhX7YHwssT1S%2FlCg6kTABz2ScqyYlhixN9%2Fk2jRNki7HWnHBoQI%2BznrcsuKf%2BujxqYDeKqdyOmL3pGbst%2BCf6tabB%2F5TnU8QpULEL3kAfSyi2YyrHkBjEgpOCj2ze3USl0k4zDn0bCg%3D%3D%7Ctkp%3ABk9SR_6t65H5Yw', 'https://www.ebay.com/itm/285506402207?var=587452927285&itmmeta=01HZ4HTTTX7CNPBR2ZTJ8FEKVJ&hash=item427981f79f:g:N58AAOSwVFllIJcD&itmprp=enc%3AAQAJAAAAwEaMCsna09sfEQdaGbeI7X%2Fc0%2FYW2%2FduGqIJZKGOyycnKJsX25ImJxOCGmYrba49RLMVCuNsqLSuRvDR%2F5Ridq6TagWz06jQmWCAgE4PVhar%2BUdY%2Bzvp74EBFIXxCjIP7uL5rlFUm%2F8dm1nxK20yvXS0jc0c97ALLuzZiqTEkZ4%2F3Ri%2FYBU%2FQmyvXTqpVYN79CPOh2fm2gW3AkmtwrN5SMhsNoIAvCoUwLi32B4I1pTIJ5TsyQEVNYBbip09FLp7aQ%3D%3D%7Ctkp%3ABk9SR_6t65H5Yw', 'https://www.ebay.com/itm/156213738217?var=457134435875&itmmeta=01HZ4HTTTXF5GD9EJ8ZN4Y1KDN&hash=item245f107ae9:g:upQAAOSwOZBmR6kc&itmprp=enc%3AAQAJAAAA4NEvmOZSqVUD93oak2HrOucGTMCHu414TGyAy6GGOwPYvGsgb%2FBuhZWTOp87MuySg%2FecuVOrlvMu2gExlC1LmgbaU8oxGXN83zWjZGRPjHD2o%2F5PAALisa403N1Qy3Ypf%2Ff2j2Ptbrt%2BuT1WYx%2FdipzDGAksmiadErg79NKyJjokfKxzuQF0WFhf%2FieNPRvOW6vA9p1uauXHj1RNdoTDxj8txJu0fIwyn%2FnbhE1UJf74GDvZN9%2BLSmY2ji1benFNQ94oSc%2FJb38Mf%2F9UxcSIQX2WXkI64djjJiE5Kcx4%2Fyiz%7Ctkp%3ABk9SR_6t65H5Yw', 'https://www.ebay.com/itm/296306412712?var=594325877299&itmmeta=01HZ4HTTTX30N5DTVYH1NT4FMW&hash=item44fd3d0ca8:g:tp0AAOSwf8Zl-fGF&itmprp=enc%3AAQAJAAAAwFhBlSc%2FrwG5M%2FEY9mKRkdxJ5%2FYj55BvflK4Ro4JHOn85CrsipAaIpoP9mqCVrXInPEWx9Z5nkdMXEyuhO6GS9wTGXtNzCFi3ZhabWFtgmBe1BQy%2FmLXOrd5M%2FdCOCL9wP%2BawU5BgE9VGDe0vcSHusfX9GYzPyoYnJH7ABeTQHr39l7X21W9kq8RBXfwcJNI%2FlQrmoQuhOx3Iwj9UDCMSI2vtXqqJ2Q%2FY5SDQTAOVSZvBitYGOyhpnNs7b5B7gJ9Pw%3D%3D%7Ctkp%3ABk9SR_6t65H5Yw', 'https://www.ebay.com/itm/285752807606?var=587820842496&itmmeta=01HZ4HTTTY6QGBM99TZY2S32MF&hash=item428831d0b6:g:HhkAAOSwvHdmDEXE&itmprp=enc%3AAQAJAAAAwEvNpZ09bvSir4i416%2BwUt6yJdr9TYw1WyeHzM2KzOw5QWH6KZ04JBg02Lv%2FKEjJReEQewO1SnmsPgG1AqY7Mu3qBPkGZj3wwbGrqAPCJsOOlKYYUmqAPLJtIfs5jrBqpiVs2HIDwJE2sJFf7CIa2ZBuZl%2Fp9QL0iRCYxmY2wU8eL8W0rnEzM9sgS2UEvXY2jh0oB1EAGiaezZyeOjC%2FyJBJjUcFaF3tCDTRvY%2FHx1tIS8KrsZdGzwjOt2gsVWWgrA%3D%3D%7Ctkp%3ABk9SR_6t65H5Yw', 'https://www.ebay.com/itm/313612605795?var=612423303281&itmmeta=01HZ4HTTTY9WS2HHRB0FKE9WVH&hash=item4904c49963:g:Kw0AAOSwQRJgyQkX&itmprp=enc%3AAQAJAAAAwOSwPcxGw3nbvb1m8Q1UyoNEFIK1lFhfI%2BT4bpr0jqc1%2F7LFAiBN%2BdrzawMnWYgahS2QKgjsvsRvzFNYnjQ03hUBCOSKm1oHzaRoQVB72xwbQHeZmAolN8e0DL8TlGkNSxjlTBTYIyoV6DPmIP%2FNLk8aeU9jpliT%2FrDzyRYF68ohIHx68496Dvk4FuqBwzEZCqu6pXYJv7WsZ8SkUatzSJEg%2BVGeQ%2BLtnIznsN6AmmocLndcpgUbwW1vHZdJGYgj0g%3D%3D%7Ctkp%3ABk9SR_6t65H5Yw', 'https://www.ebay.com/itm/315387256142?var=613872135689&itmmeta=01HZ4HTTTY7N5E718KT4C57SBB&hash=item496e8b9d4e:g:zFEAAOSwCOFhChJg&itmprp=enc%3AAQAJAAAA4D9WZZ%2Bnak9moDECqHff7O1Ruk1bBTJucGGd0BVxZjI1yMzwhFSn%2BAvZdbQMcUAPHdO4JbyCT%2FmiKvrQu9XwxSDXHWFQuKejSGthu6ACMq0cSm%2FJa8E2JO3ynYrzS%2Bc%2B8u2dzqiHI6vt%2BoMm0Gj1jsGvmm6evw4vLzV5no7laiaescvW4vLWRiHuwi1Yje4lFu%2FBHpG8UYXuxzKttKjf6WLZPxHyGEJhokFXWkAagk1sxDPxhcSXb9FTUPtpwYm4gO1CJoRdcRIZPghKOQp5sY49gvq4s9rioBbIe5gtD02Q%7Ctkp%3ABk9SR_6t65H5Yw', 'https://www.ebay.com/itm/326142399546?epid=4039821538&itmmeta=01HZ4HTTTY0DY1CQWSRAJVMS0Y&hash=item4bef9a143a:g:tjoAAOSwbHpmVTIg&itmprp=enc%3AAQAJAAAAwAmNFK6Yrx0q7kBm1yw5eMx0T0qesk4kVgsGr2mZxkeCvsiKjinjFfM14Ddmmhb%2B97%2Fx0JXpurD3vUWqMDaJYQsEyiMB662%2BcJ7rYqICPTlGeNYwOgAJ5VAumzUfU41jmZqK4vYvlM16VT7M9GbmD3K%2FeMzT6ZLBPXQ393GiFYf0BnI%2BVjyvV5d%2BydgqiFva127G6i3jgUz8V4wJFTzG%2F0BPZVn1LMuZxm1sdpCbwybL%2BQBRTEIlY4KiOp6m2kYGsw%3D%3D%7Ctkp%3ABk9SR4Cu65H5Yw', 'https://www.ebay.com/itm/285793659231?var=587819987257&epid=21045640036&itmmeta=01HZ4HTTTYFM4FWMAXCMY867BG&hash=item428aa1295f:g:DF0AAOSwkqJmC55Z&itmprp=enc%3AAQAJAAAA4Ne8Ld634eipVmOzRNT8cmloefQG9g4Mje3uBCBrzWfkgRnqhTnrZl6kOOmVFpdLIvSYjdu0YTc%2BmoAoAALTCLz6L%2BN0NW51%2BSlpQZOTfaMBEG8UjfcWMfOc5BGKBjCttY%2BzlFRVlOFamXQ2UwxizwC%2BWdolgovIZ07%2BdGr5oZNA6yNYrtTe3eDZF%2BGGazumsajPNj936FrfRoQn4JElv5v5RafjoV4Bazufz72dc354OvzaMP4hwWiD0PEOCJPxqNxfzhpzONEJQ0NrOqq937taIgcdqvKD2BEkQY1BX5jc%7Ctkp%3ABk9SR4Cu65H5Yw', 'https://www.ebay.com/itm/335404531565?var=544811088842&itmmeta=01HZ4HTTTYH9X4GQA09VQPR2KY&hash=item4e17aaff6d:g:6AIAAOSwqYFmTcCh&itmprp=enc%3AAQAJAAAAwL37mBn5ZuSUhezdc0Vu5XVMuJNFwGyN3jap2DEdtmzpmt8Gz%2BuVGngF0iU1JcSfrDXqzdnw2dDaUtp2JDrOPlZOTJLBLmPX2fE8Pcz23Dfp4Odd67EuVrYIUF%2B9f%2BhoH%2FBOQEbNz%2BRoGbmky%2BbXLa1XthA1a9CiaZg7edtKC%2FY4RhSo1wSRuL0uQaJYGj7jePOxNIV7GZmoe4uqEp5nlLzHC%2B%2B9vFtysE5mgaPF9gPzBeGUKsZpKQSdfvtSZgsZSQ%3D%3D%7Ctkp%3ABk9SR4Cu65H5Yw', 'https://www.ebay.com/itm/305041180504?var=604275665051&itmmeta=01HZ4HTTTYCMB2FGP97B1G4PJ4&hash=item4705df0758:g:49wAAOSwCKBkwsiN&itmprp=enc%3AAQAJAAAA4HeQjqglmxPPGOz11qW29VMMQgpUepkVt8JsXU5MTh9jonQvuEVyPTXdcuixeJ0mduGZA%2B0G7eyxlcxqyGyli1UrBv03jPWPADX78PPIJRe8TNIMmFinszh8AF%2BqSDgzmr91jbLn1cA6XVn0nVGUGm7JdosvGn89Bi6Iia2orn6aFU%2BRfcWXwnO%2Fwkej%2Fg8SKV7lZsMS7pc3ov26l31KYHaKzP5VBJoWDOqxoW36%2F20qORVEhgAsGyNjSwJQgEKRUGC1xbdlS7CiCynkmBXw%2BfvTPiGJdZrjv3WAx7z8asov%7Ctkp%3ABk9SR4Cu65H5Yw', 'https://www.ebay.com/itm/404800673591?var=674820821532&itmmeta=01HZ4HTTTYA8C6FQMGP5TYBZ1X&hash=item5e40001737:g:YgEAAOSw7hdlzppU&itmprp=enc%3AAQAJAAAAwJ%2FBJlhPt%2Bm7zHDBJO2i39P%2BVy4YBIJOOLoOzXmtMXlHSoNnrTjsfrabAdULyy9ZygtY3tt2t7A%2B4KL6YGhbX3iHdp3ifhhnAVl8T0ps3aOv2%2B8k4%2Fb%2BzPjSrVHq%2BqO%2Fa8EN%2F8rrfQ3jWI%2BO0QMD1rtUTBspUIJNMXH06AuepHAcjYNTgdFc%2BY1GwH%2FHDOy5KlHE%2BG4P1Y7TIS%2BBGAhj4RO55aPTyphHRZaMQQj3ecX--vJUu4SMGtW2PH%2F6hpC6Jg%3D%3D%7Ctkp%3ABk9SR4Cu65H5Yw', 'https://www.ebay.com/itm/326144641283?itmmeta=01HZ4HTTTYWW7KRPFYJFDZQD3E&hash=item4befbc4903:g:sSkAAOSwtPtmRVdA&itmprp=enc%3AAQAJAAAAwLH6aOKpEDuZMw83C%2B1nE8xGzX1LQjHz2pVMw6eID35JcjOUhc2hpaVYX9dHLvlQBbi9xzKbCxEB1n%2FiAgJTUphv1SZWowXpVzmWvKfvgoOWiX2rQ7TSJu9rRkmMg67FohTAURcW3OgqwdcngGH7K9wnVTJNCen2Sv9LZvOm4p4OahGEFsoSpPk8MU%2BNpQg5EMtlLArcTaBWhzu5NmjtAI9WqDnAVXrX7Zm51%2F9jVr7GZZvqEe%2FQwAns%2FT8cmu4VLQ%3D%3D%7Ctkp%3ABk9SR4Cu65H5Yw', 'https://www.ebay.com/itm/285882509034?var=587921526195&itmmeta=01HZ4HTTTY5VMEXRCM38JSRVG0&hash=item428fece6ea:g:5Q4AAOSwHEVmVuz1&itmprp=enc%3AAQAJAAAA4M8y3QgNzmpM3cj%2F6Akd%2F5gUpKX1APUuCXOagIC9wahxXy1kDiIgL7XuOGV--yGYjWR85lkmfW2je4QlmnFTkfgZmV9WZBLLNcBEbmi54mPPxtx%2Bpo7%2BzjgihjB8xe3IR7LeukWXzgjAG%2FdwgxanOQPlZs04yK8hVkJQsB68rlbwTiFivjJgkmGzeweaDBqmZLOrD39JDy1DVWCYpte%2FqFgA21IdP9dFOenab4275ozR%2FROd%2Bd0yZ9deHWXxouQ%2FXeB%2BlwiIvuvXmS2omY2k2vT5aTx21BoaCNcMUJR1k6Xd%7Ctkp%3ABk9SR4Cu65H5Yw', 'https://www.ebay.com/itm/404098900799?var=674218466448&itmmeta=01HZ4HTTTYZ1AWEKVM3DFMEBQ6&hash=item5e162be33f:g:VgMAAOSwsgNkf3Xn&itmprp=enc%3AAQAJAAAAwHhIH2EXWN7oPCLgi1UcifqBAm0SoZlf1%2F9ix7rq51S4kxvxmXBZh2HViDxkI3WW3nMIY9tTjmzKgusBw29acbv%2FIcqU94doD5nu2Y4W%2Frlrl6vdKWWTJwMMvq%2BO3LMpzXtFotY%2FqoovVWMv4vfI2b56B3QJsVJthCRBaFt%2Fh4UaH44N0%2FOGDOp8GXCGS8mHXA7a1PS5yiCqsfTq%2BGzgkHiH0R9blOcx%2F2BNMtXs1HzFjqiRoro2Kb78XNtvQ5Q6EQ%3D%3D%7Ctkp%3ABk9SR4Cu65H5Yw', 'https://www.ebay.com/itm/155713612922?var=456099357017&itmmeta=01HZ4HTTTYT6J4QGR5GN5X4MBF&hash=item2441412c7a:g:EyMAAOSwiJNlDIff&itmprp=enc%3AAQAJAAAAwF94J71BONAoFT8U%2Bs4OBJyQ9TAsn433eTXPj1Tn3J%2FBFUNBq%2F1GN%2FCyC7Z2fluMiUiLS8xgvty8dvrs7cBTuoT8KovkAxkFGOkbNa6QkGtA1oaI2Y4ugPUQh0%2FB%2FldJXsGRoBiu0EqDw3%2BOggmNzDH7JlkwwNgRIgTu2BXGmci6sN3ad%2BWTUZpo8cUpgBgYk2epg2VifXqwSC%2BK%2FdvLMsBSlSv0kJYEKnXZp8S6bfjTdjaeK1E4Z7Sql%2FjkO4wq%2Bg%3D%3D%7Ctkp%3ABk9SR4Cu65H5Yw', 'https://www.ebay.com/itm/375448736036?var=644394629790&itmmeta=01HZ4HTTTYD69SJ0Y7H48XCF6T&hash=item576a7d1124:g:A8AAAOSwvQpmUT1P&itmprp=enc%3AAQAJAAAAwIY%2FN9PBHZ6Mkj9zAWu6WwabJy5FNVYdtRkBelFwaachRTG7Pr4IoURnkOIxWPGOW4oKLf94bauAT8FJZXdNZtn6zuCZhI%2BzM5WC9jegS2TwUFLcLMPUDcHhMcWSJ9R2MDM6ilmqrIcjHuB7uiNvZRtQqFxWDq4MNjy6cz1gV%2BSxaiQ%2FwP1ZlSLRHT%2FIAwS3P5%2F37prgE3wh2GAmg8m0iXQYjSV4DJWdXwL1F%2BoTwAq5XBxmwIbcUFIz84%2BEr%2FmpRA%3D%3D%7Ctkp%3ABk9SR4Cu65H5Yw', 'https://www.ebay.com/itm/155711299195?var=457134332669&itmmeta=01HZ4HTTTYHQHKC07GT49VWYVZ&hash=item24411dde7b:g:nj0AAOSwlUVk09Pi&itmprp=enc%3AAQAJAAAA4J%2F4qCjTjYCej5GA8jRQmdgxMrucagNzcMFUEMdjxMo%2BDN47ppRWElK%2FFrR1LGlUJfVs8df9dFtPdCQzjQSlO8ov6KnUBjV5woQeiwAn6cDtHtNz9eNPYEA%2BRZPF9IUsjTbgLquKwlhNJ5GcUU7vxZ2Jxud4m1kB4podOyPP4xPSzcyfF2A2sgqXBkYaQm5YU1DtPETlt54JWW89Xsae6cgVqjN3xvTVmyqvopetU15u4nlPmiYU1stMNsJmc22Q%2FTJzCpMW65Oj28WsVjNI3dBk0%2FIqHhNl1yraCAae47IR%7Ctkp%3ABFBMgK7rkflj', 'https://www.ebay.com/itm/126491966228?itmmeta=01HZ4HTTTY87K6SW3BDQ40E0DQ&hash=item1d73823b14:g:NCkAAOSwMCBmS~Sj&itmprp=enc%3AAQAJAAAAwEZL%2BUsNUoi1Dg8UdH0sxRA4S%2FWY0DaXYpR%2FjyAyfFmp05eAzuG7gfGSf8IGigHNWW5OkJYEZPYsTMIMjhb96EKNbJ7r5yuJSaTtfpb8SH2fjMbvuanEd%2FzrAkjwRb0%2BGiJnte%2BDOiCsblBSGTe0Vl4c9rBIN25p288T7CrVVEquR3dw4KLr9SdlRZLCPX60UIFvfsw1AjGqcpXrVmqiXzh3XwVP61b7XnuFv9856UDXl6Y9pB8w%2BdlLabT4LzL27w%3D%3D%7Ctkp%3ABlBMUICu65H5Yw']\n"
          ]
        }
      ]
    },
    {
      "cell_type": "code",
      "source": [
        "from selenium.common.exceptions import NoSuchElementException, TimeoutException, StaleElementReferenceException\n",
        "import pandas as pd\n",
        "from time import sleep\n",
        "\n",
        "shoes_data = []\n",
        "\n",
        "for product in links_list:\n",
        "    shoe_data = {}\n",
        "    driver.get(product)\n",
        "    sleep(2)\n",
        "    try:\n",
        "        tag_name = driver.find_element(By.XPATH, \"//h1[@class='x-item-title__mainTitle']/span\").text\n",
        "        price = driver.find_element(By.XPATH, \"//span[contains(@class, 'ux-textspans') and contains(text(), 'US $')]\").text\n",
        "\n",
        "\n",
        "        seller_profile_element = driver.find_element(By.XPATH, \"//a[contains(@href, 'ebay.com/usr')]\")\n",
        "        seller_profile_url = seller_profile_element.get_attribute('href')\n",
        "\n",
        "            # Navigate to the seller's profile page\n",
        "        driver.get(seller_profile_url)\n",
        "        sleep(2)\n",
        "\n",
        "\n",
        "\n",
        "        shoe_data['Tag Name'] = tag_name\n",
        "        shoe_data['Price'] = price\n",
        "        shoe_data['Seller Profile URL'] = seller_profile_url\n",
        "\n",
        "\n",
        "        print(\"Tag Name:\", tag_name)\n",
        "        print(\"Price:\", price)\n",
        "        print(\"Seller Profile URL:\", seller_profile_url)\n",
        "\n",
        "\n",
        "        shoes_data.append(shoe_data)\n",
        "\n",
        "    except (NoSuchElementException, TimeoutException):\n",
        "        pass\n",
        "\n",
        "# Quit the driver\n",
        "driver.quit()\n",
        "\n",
        "\n",
        "\n",
        "\n"
      ],
      "metadata": {
        "id": "3Dl7XEH1mcXh"
      },
      "execution_count": 85,
      "outputs": []
    },
    {
      "cell_type": "code",
      "source": [
        "# Convert the data into a DataFrame\n",
        "shoes_df = pd.DataFrame(shoes_data)\n",
        "\n",
        "shoes_df.head(100)\n",
        "sorted_shoes_df = shoes_df.sort_values(by='Price', ascending=False)\n",
        "\n",
        "# Recommend shoes based on Positive Feedback\n",
        "top_rated_shoes = sorted_shoes_df.head(20)  # Assuming you want to recommend the top 5 shoes\n",
        "\n",
        "print(\"Top Rated Shoes Based on Price:\")\n",
        "print(top_rated_shoes[['Tag Name', 'Price']])"
      ],
      "metadata": {
        "colab": {
          "base_uri": "https://localhost:8080/"
        },
        "id": "scFe0vBBMV1Z",
        "outputId": "da83978d-a382-413a-c516-e25a140b0154"
      },
      "execution_count": 86,
      "outputs": [
        {
          "output_type": "stream",
          "name": "stdout",
          "text": [
            "Top Rated Shoes Based on Price:\n",
            "                                             Tag Name       Price\n",
            "16  T.U.K A9324 Tukskin Pointed Buckle Creeper Sho...   US $57.60\n",
            "18  Earth Fortuna Earthies Women's Black Patent Sl...   US $55.99\n",
            "0   WOMEN'S BASS LUCILLE SLIP-ON BLACK LOAFERS SHO...   US $53.95\n",
            "23             PUMA Unisex Suede Classic XXI Sneakers   US $50.99\n",
            "3   Crocs Men's Sneakers - Literide 360 Pacer Lace...   US $49.99\n",
            "21  PUMA Men's Mercedes-AMG Petronas Formula 1 Dri...   US $42.99\n",
            "13  Puma Variant Nitro SciTech Lace Up Mens Black ...   US $42.25\n",
            "5   Crocs Men's and Women's Shoes - Baya Glitter C...   US $38.49\n",
            "12  Crocs Men's and Women's Shoes - Bayaband Clogs...   US $37.99\n",
            "7   Puma Axelion City Escape Training Mens Black S...   US $37.55\n",
            "25  Puma Softride One4all Fade Running Mens Black ...   US $37.55\n",
            "6   Crocs Men's and Women's Shoes - Baya Clogs, Sl...   US $34.99\n",
            "20        PUMA Men's Star Vital Refresh Running Shoes   US $32.99\n",
            "2   Puma Supertec Signature Lace Up Mens Black Sne...   US $32.85\n",
            "17  Puma Men's Grey Black Caged Ignite Pwradapt Go...   US $31.19\n",
            "1             PUMA Men's Contempt Demi Training Shoes   US $30.99\n",
            "8   Nike Shoes Men's Size 13 Zoom Kobe 3 Orca Bask...  US $299.99\n",
            "11  Puma Cell Vive Bright Running Mens Black Sneak...   US $29.99\n",
            "19    Adidas AlphaEdge 4D Goodbye Gravity Size 10 EUC   US $25.00\n",
            "10  AND1 M And1 Pulse Ii Basketball Mens Black Sne...   US $24.99\n"
          ]
        }
      ]
    },
    {
      "cell_type": "code",
      "source": [],
      "metadata": {
        "id": "YCK7X2qVZdoA"
      },
      "execution_count": null,
      "outputs": []
    }
  ]
}